{
 "cells": [
  {
   "cell_type": "markdown",
   "metadata": {},
   "source": [
    "# AI Action Plan Comments Report"
   ]
  },
  {
   "cell_type": "markdown",
   "metadata": {},
   "source": [
    "BMZA | May 13, 2025"
   ]
  },
  {
   "cell_type": "markdown",
   "metadata": {},
   "source": [
    "**This analysis examines public comments submitted in response to the National AI Action Plan, with a specific focus on those referencing or relevant to the U.S. Department of Commerce.** \n",
    "\n",
    "The project leverages the AI-enhanced dataset provided by IFP[^2], which uses Claude (claude-3-7-sonnet-latest) to topic cluster, extract recommendations, and summarize across thousands of public submissions. To focus on substantive policy input, IFP filtered out non-substantive comments—primarily brief, anonymous, or pseudonymous submissions lacking detailed policy recommendations.[^3] This filtering process resulted in a curated set of 721 submissions from organizations, which were more likely to contain meaningful policy ideas. \n",
    "\n",
    "By filtering and analyzing content related to the Department of Commerce, this work seeks to identify key public concerns, priorities, and recommendations regarding the Department’s role in AI governance, research, and regulation.\n",
    "\n",
    "[^2]: [IFP AI Action Plan Database](aiactionplan.org)\n",
    "[^3]: [IFP AI Action Plan Analysis](https://ifp.org/ai-action-plan/)"
   ]
  },
  {
   "cell_type": "markdown",
   "metadata": {},
   "source": [
    "## Background and Context"
   ]
  },
  {
   "cell_type": "markdown",
   "metadata": {},
   "source": [
    "In February 2025, the White House Office of Science and Technology Policy (OSTP) issued a Request for Information (RFI) to solicit public input on the development of a national AI Action Plan.[^1] This initiative was launched under President Trump’s Executive Order on Removing Barriers to American Leadership in AI, aiming to gather perspectives from a wide range of stakeholders—including academia, industry, civil society, and various levels of government—on AI policy priorities. Over a seven-week period, more than 10,000 comments were submitted, covering topics such as semiconductor manufacturing, supply chain resilience, AI model development, workforce training, and scientific research. The comment period closed on March 15, 2025, and the full catalog of submissions was published by OSTP on April 24, 2025. [^2]\n",
    "\n",
    "The Department of Commerce plays a pivotal role in the federal AI ecosystem through its bureaus, including the National Institute of Standards and Technology (NIST) and the U.S. Patent and Trademark Office (USPTO). These bureaus are central to the development of technical standards, intellectual property frameworks, and innovation policy related to AI. Analyzing public feedback directed toward or implicating the Department of Commerce provides valuable insights into stakeholder expectations and concerns, thereby informing the Department’s ongoing efforts in AI governance and policy formulation.\n",
    "\n",
    "[^1]: [Request for Information on the Development of an Artificial Intelligence (AI) Action Plan](https://www.federalregister.gov/documents/2025/02/06/2025-02305/request-for-information-on-the-development-of-an-artificial-intelligence-ai-action-plan)\n",
    "[^2]: [The White House: American Public Submits Over 10,000 Comments on White House’s AI Action Plan](https://www.whitehouse.gov/articles/2025/04/american-public-submits-over-10000-comments-on-white-houses-ai-action-plan/)\n"
   ]
  },
  {
   "cell_type": "code",
   "execution_count": 12,
   "metadata": {},
   "outputs": [],
   "source": [
    "import pandas as pd\n",
    "import nbconvert\n",
    "\n",
    "# Importing data from aiactionplan.org\n",
    "data = pd.read_csv('recommendations.csv')\n",
    "\n",
    "# Extracting Commerce assignees\n",
    "assignees = [\n",
    "  \"All\",\n",
    "  \"NIST\",\n",
    "  \"Department of Commerce\",\n",
    "  \"AISI\",\n",
    "  \"Bureau of Industry and Security (BIS)\",\n",
    "  \"USPTO\",\n",
    "  \"National Semiconductor Technology Center\",\n",
    "  \"NOAA\",\n",
    "  \"Census Bureau\",\n",
    "  \"USTR\",\n",
    "  \"NAIC\",\n",
    "  \"CHIPS Program Office\",\n",
    "  \"Manufacturing USA\",\n",
    "  \"PTO\",\n",
    "  \"SelectUSA\",\n",
    "  \"Patent and Trial Appeal Board\",\n",
    "  \"Foreign Commercial Service\",\n",
    "  \"NCI\",\n",
    "  \"EDA\",\n",
    "  \"CHIPS Manufacturing USA\",\n",
    "  \"End-User Review Committee\",\n",
    "  \"Bureau of Economic Analysis\"\n",
    "]\n",
    "commerce_recommendations = data[data['Assignee'].isin(assignees)]\n",
    "commerce_recommendations.to_excel('commerce_recommendations_ai_action_plan_comments.xlsx')"
   ]
  },
  {
   "cell_type": "markdown",
   "metadata": {},
   "source": [
    "## Breakdown by Organization Type"
   ]
  },
  {
   "cell_type": "code",
   "execution_count": 32,
   "metadata": {},
   "outputs": [
    {
     "data": {
      "text/html": [
       "        <script type=\"text/javascript\">\n",
       "        window.PlotlyConfig = {MathJaxConfig: 'local'};\n",
       "        if (window.MathJax && window.MathJax.Hub && window.MathJax.Hub.Config) {window.MathJax.Hub.Config({SVG: {font: \"STIX-Web\"}});}\n",
       "        </script>\n",
       "        <script type=\"module\">import \"https://cdn.plot.ly/plotly-3.0.0.min\"</script>\n",
       "        "
      ]
     },
     "metadata": {},
     "output_type": "display_data"
    },
    {
     "data": {
      "text/html": [
       "<div>            <script src=\"https://cdnjs.cloudflare.com/ajax/libs/mathjax/2.7.5/MathJax.js?config=TeX-AMS-MML_SVG\"></script><script type=\"text/javascript\">if (window.MathJax && window.MathJax.Hub && window.MathJax.Hub.Config) {window.MathJax.Hub.Config({SVG: {font: \"STIX-Web\"}});}</script>                <script type=\"text/javascript\">window.PlotlyConfig = {MathJaxConfig: 'local'};</script>\n",
       "        <script charset=\"utf-8\" src=\"https://cdn.plot.ly/plotly-3.0.0.min.js\"></script>                <div id=\"30fecd74-99d9-490d-8b8e-74449b4ca5aa\" class=\"plotly-graph-div\" style=\"height:525px; width:100%;\"></div>            <script type=\"text/javascript\">                window.PLOTLYENV=window.PLOTLYENV || {};                                if (document.getElementById(\"30fecd74-99d9-490d-8b8e-74449b4ca5aa\")) {                    Plotly.newPlot(                        \"30fecd74-99d9-490d-8b8e-74449b4ca5aa\",                        [{\"name\":\"Overall (Count)\",\"visible\":true,\"x\":[\"AI Company\",\"Academia\",\"Advocacy Org\",\"Frontier Developer\",\"Industry (Other)\",\"Industry Association\",\"Nonprofit (Other)\",\"Other\",\"Professional Society\",\"Think Tank\"],\"y\":{\"dtype\":\"i2\",\"bdata\":\"CAJBAvgBUwBcBDkDPQE5AF4BswE=\"},\"type\":\"bar\"},{\"name\":\"Commerce (Count)\",\"visible\":true,\"x\":[\"AI Company\",\"Academia\",\"Advocacy Org\",\"Frontier Developer\",\"Industry (Other)\",\"Industry Association\",\"Nonprofit (Other)\",\"Other\",\"Professional Society\",\"Think Tank\"],\"y\":{\"dtype\":\"f8\",\"bdata\":\"AAAAAAAAOkAAAAAAAAAyQAAAAAAAADNAAAAAAAAAEEAAAAAAAIBPQAAAAAAAQFJAAAAAAAAAOEAAAAAAAAAAAAAAAAAAACJAAAAAAACARkA=\"},\"type\":\"bar\"},{\"name\":\"Overall (Proportion)\",\"visible\":false,\"x\":[\"AI Company\",\"Academia\",\"Advocacy Org\",\"Frontier Developer\",\"Industry (Other)\",\"Industry Association\",\"Nonprofit (Other)\",\"Other\",\"Professional Society\",\"Think Tank\"],\"y\":{\"dtype\":\"f8\",\"bdata\":\"velNb3rTuz89q6gxUuC+P03yL1hL+Lo\\u002fV86tHxHEkT9oFTVGCtzNP0ST\\u002fAvWEsY\\u002fXrYB+pT2sD\\u002f9C9YSvmaIP7aErxmmurI\\u002fObd+RBBHtz8=\"},\"type\":\"bar\"},{\"name\":\"Commerce (Proportion)\",\"visible\":false,\"x\":[\"AI Company\",\"Academia\",\"Advocacy Org\",\"Frontier Developer\",\"Industry (Other)\",\"Industry Association\",\"Nonprofit (Other)\",\"Other\",\"Professional Society\",\"Think Tank\"],\"y\":{\"dtype\":\"f8\",\"bdata\":\"BQo9RdSvtz8\\u002f8z0cCWawPxjWXYFCT7E\\u002fGlv8oywnjT+uaWzxj7LMP\\u002fXrhXVXoNA\\u002fVET9emHdtT8AAAAAAAAAAD\\u002fzPRwJZqA\\u002fD3BNY4t\\u002fxD8=\"},\"type\":\"bar\"}],                        {\"template\":{\"data\":{\"barpolar\":[{\"marker\":{\"line\":{\"color\":\"rgb(237,237,237)\",\"width\":0.5},\"pattern\":{\"fillmode\":\"overlay\",\"size\":10,\"solidity\":0.2}},\"type\":\"barpolar\"}],\"bar\":[{\"error_x\":{\"color\":\"rgb(51,51,51)\"},\"error_y\":{\"color\":\"rgb(51,51,51)\"},\"marker\":{\"line\":{\"color\":\"rgb(237,237,237)\",\"width\":0.5},\"pattern\":{\"fillmode\":\"overlay\",\"size\":10,\"solidity\":0.2}},\"type\":\"bar\"}],\"carpet\":[{\"aaxis\":{\"endlinecolor\":\"rgb(51,51,51)\",\"gridcolor\":\"white\",\"linecolor\":\"white\",\"minorgridcolor\":\"white\",\"startlinecolor\":\"rgb(51,51,51)\"},\"baxis\":{\"endlinecolor\":\"rgb(51,51,51)\",\"gridcolor\":\"white\",\"linecolor\":\"white\",\"minorgridcolor\":\"white\",\"startlinecolor\":\"rgb(51,51,51)\"},\"type\":\"carpet\"}],\"choropleth\":[{\"colorbar\":{\"outlinewidth\":0,\"tickcolor\":\"rgb(237,237,237)\",\"ticklen\":6,\"ticks\":\"inside\"},\"type\":\"choropleth\"}],\"contourcarpet\":[{\"colorbar\":{\"outlinewidth\":0,\"tickcolor\":\"rgb(237,237,237)\",\"ticklen\":6,\"ticks\":\"inside\"},\"type\":\"contourcarpet\"}],\"contour\":[{\"colorbar\":{\"outlinewidth\":0,\"tickcolor\":\"rgb(237,237,237)\",\"ticklen\":6,\"ticks\":\"inside\"},\"colorscale\":[[0,\"rgb(20,44,66)\"],[1,\"rgb(90,179,244)\"]],\"type\":\"contour\"}],\"heatmap\":[{\"colorbar\":{\"outlinewidth\":0,\"tickcolor\":\"rgb(237,237,237)\",\"ticklen\":6,\"ticks\":\"inside\"},\"colorscale\":[[0,\"rgb(20,44,66)\"],[1,\"rgb(90,179,244)\"]],\"type\":\"heatmap\"}],\"histogram2dcontour\":[{\"colorbar\":{\"outlinewidth\":0,\"tickcolor\":\"rgb(237,237,237)\",\"ticklen\":6,\"ticks\":\"inside\"},\"colorscale\":[[0,\"rgb(20,44,66)\"],[1,\"rgb(90,179,244)\"]],\"type\":\"histogram2dcontour\"}],\"histogram2d\":[{\"colorbar\":{\"outlinewidth\":0,\"tickcolor\":\"rgb(237,237,237)\",\"ticklen\":6,\"ticks\":\"inside\"},\"colorscale\":[[0,\"rgb(20,44,66)\"],[1,\"rgb(90,179,244)\"]],\"type\":\"histogram2d\"}],\"histogram\":[{\"marker\":{\"pattern\":{\"fillmode\":\"overlay\",\"size\":10,\"solidity\":0.2}},\"type\":\"histogram\"}],\"mesh3d\":[{\"colorbar\":{\"outlinewidth\":0,\"tickcolor\":\"rgb(237,237,237)\",\"ticklen\":6,\"ticks\":\"inside\"},\"type\":\"mesh3d\"}],\"parcoords\":[{\"line\":{\"colorbar\":{\"outlinewidth\":0,\"tickcolor\":\"rgb(237,237,237)\",\"ticklen\":6,\"ticks\":\"inside\"}},\"type\":\"parcoords\"}],\"pie\":[{\"automargin\":true,\"type\":\"pie\"}],\"scatter3d\":[{\"line\":{\"colorbar\":{\"outlinewidth\":0,\"tickcolor\":\"rgb(237,237,237)\",\"ticklen\":6,\"ticks\":\"inside\"}},\"marker\":{\"colorbar\":{\"outlinewidth\":0,\"tickcolor\":\"rgb(237,237,237)\",\"ticklen\":6,\"ticks\":\"inside\"}},\"type\":\"scatter3d\"}],\"scattercarpet\":[{\"marker\":{\"colorbar\":{\"outlinewidth\":0,\"tickcolor\":\"rgb(237,237,237)\",\"ticklen\":6,\"ticks\":\"inside\"}},\"type\":\"scattercarpet\"}],\"scattergeo\":[{\"marker\":{\"colorbar\":{\"outlinewidth\":0,\"tickcolor\":\"rgb(237,237,237)\",\"ticklen\":6,\"ticks\":\"inside\"}},\"type\":\"scattergeo\"}],\"scattergl\":[{\"marker\":{\"colorbar\":{\"outlinewidth\":0,\"tickcolor\":\"rgb(237,237,237)\",\"ticklen\":6,\"ticks\":\"inside\"}},\"type\":\"scattergl\"}],\"scattermapbox\":[{\"marker\":{\"colorbar\":{\"outlinewidth\":0,\"tickcolor\":\"rgb(237,237,237)\",\"ticklen\":6,\"ticks\":\"inside\"}},\"type\":\"scattermapbox\"}],\"scattermap\":[{\"marker\":{\"colorbar\":{\"outlinewidth\":0,\"tickcolor\":\"rgb(237,237,237)\",\"ticklen\":6,\"ticks\":\"inside\"}},\"type\":\"scattermap\"}],\"scatterpolargl\":[{\"marker\":{\"colorbar\":{\"outlinewidth\":0,\"tickcolor\":\"rgb(237,237,237)\",\"ticklen\":6,\"ticks\":\"inside\"}},\"type\":\"scatterpolargl\"}],\"scatterpolar\":[{\"marker\":{\"colorbar\":{\"outlinewidth\":0,\"tickcolor\":\"rgb(237,237,237)\",\"ticklen\":6,\"ticks\":\"inside\"}},\"type\":\"scatterpolar\"}],\"scatter\":[{\"fillpattern\":{\"fillmode\":\"overlay\",\"size\":10,\"solidity\":0.2},\"type\":\"scatter\"}],\"scatterternary\":[{\"marker\":{\"colorbar\":{\"outlinewidth\":0,\"tickcolor\":\"rgb(237,237,237)\",\"ticklen\":6,\"ticks\":\"inside\"}},\"type\":\"scatterternary\"}],\"surface\":[{\"colorbar\":{\"outlinewidth\":0,\"tickcolor\":\"rgb(237,237,237)\",\"ticklen\":6,\"ticks\":\"inside\"},\"colorscale\":[[0,\"rgb(20,44,66)\"],[1,\"rgb(90,179,244)\"]],\"type\":\"surface\"}],\"table\":[{\"cells\":{\"fill\":{\"color\":\"rgb(237,237,237)\"},\"line\":{\"color\":\"white\"}},\"header\":{\"fill\":{\"color\":\"rgb(217,217,217)\"},\"line\":{\"color\":\"white\"}},\"type\":\"table\"}]},\"layout\":{\"annotationdefaults\":{\"arrowhead\":0,\"arrowwidth\":1},\"autotypenumbers\":\"strict\",\"coloraxis\":{\"colorbar\":{\"outlinewidth\":0,\"tickcolor\":\"rgb(237,237,237)\",\"ticklen\":6,\"ticks\":\"inside\"}},\"colorscale\":{\"sequential\":[[0,\"rgb(20,44,66)\"],[1,\"rgb(90,179,244)\"]],\"sequentialminus\":[[0,\"rgb(20,44,66)\"],[1,\"rgb(90,179,244)\"]]},\"colorway\":[\"#F8766D\",\"#A3A500\",\"#00BF7D\",\"#00B0F6\",\"#E76BF3\"],\"font\":{\"color\":\"rgb(51,51,51)\"},\"geo\":{\"bgcolor\":\"white\",\"lakecolor\":\"white\",\"landcolor\":\"rgb(237,237,237)\",\"showlakes\":true,\"showland\":true,\"subunitcolor\":\"white\"},\"hoverlabel\":{\"align\":\"left\"},\"hovermode\":\"closest\",\"paper_bgcolor\":\"white\",\"plot_bgcolor\":\"rgb(237,237,237)\",\"polar\":{\"angularaxis\":{\"gridcolor\":\"white\",\"linecolor\":\"white\",\"showgrid\":true,\"tickcolor\":\"rgb(51,51,51)\",\"ticks\":\"outside\"},\"bgcolor\":\"rgb(237,237,237)\",\"radialaxis\":{\"gridcolor\":\"white\",\"linecolor\":\"white\",\"showgrid\":true,\"tickcolor\":\"rgb(51,51,51)\",\"ticks\":\"outside\"}},\"scene\":{\"xaxis\":{\"backgroundcolor\":\"rgb(237,237,237)\",\"gridcolor\":\"white\",\"gridwidth\":2,\"linecolor\":\"white\",\"showbackground\":true,\"showgrid\":true,\"tickcolor\":\"rgb(51,51,51)\",\"ticks\":\"outside\",\"zerolinecolor\":\"white\"},\"yaxis\":{\"backgroundcolor\":\"rgb(237,237,237)\",\"gridcolor\":\"white\",\"gridwidth\":2,\"linecolor\":\"white\",\"showbackground\":true,\"showgrid\":true,\"tickcolor\":\"rgb(51,51,51)\",\"ticks\":\"outside\",\"zerolinecolor\":\"white\"},\"zaxis\":{\"backgroundcolor\":\"rgb(237,237,237)\",\"gridcolor\":\"white\",\"gridwidth\":2,\"linecolor\":\"white\",\"showbackground\":true,\"showgrid\":true,\"tickcolor\":\"rgb(51,51,51)\",\"ticks\":\"outside\",\"zerolinecolor\":\"white\"}},\"shapedefaults\":{\"fillcolor\":\"black\",\"line\":{\"width\":0},\"opacity\":0.3},\"ternary\":{\"aaxis\":{\"gridcolor\":\"white\",\"linecolor\":\"white\",\"showgrid\":true,\"tickcolor\":\"rgb(51,51,51)\",\"ticks\":\"outside\"},\"baxis\":{\"gridcolor\":\"white\",\"linecolor\":\"white\",\"showgrid\":true,\"tickcolor\":\"rgb(51,51,51)\",\"ticks\":\"outside\"},\"bgcolor\":\"rgb(237,237,237)\",\"caxis\":{\"gridcolor\":\"white\",\"linecolor\":\"white\",\"showgrid\":true,\"tickcolor\":\"rgb(51,51,51)\",\"ticks\":\"outside\"}},\"xaxis\":{\"automargin\":true,\"gridcolor\":\"white\",\"linecolor\":\"white\",\"showgrid\":true,\"tickcolor\":\"rgb(51,51,51)\",\"ticks\":\"outside\",\"title\":{\"standoff\":15},\"zerolinecolor\":\"white\"},\"yaxis\":{\"automargin\":true,\"gridcolor\":\"white\",\"linecolor\":\"white\",\"showgrid\":true,\"tickcolor\":\"rgb(51,51,51)\",\"ticks\":\"outside\",\"title\":{\"standoff\":15},\"zerolinecolor\":\"white\"}}},\"updatemenus\":[{\"buttons\":[{\"args\":[{\"visible\":[true,true,false,false]},{\"yaxis\":{\"title\":\"Number of Recommendations\"},\"legend\":{\"title\":{\"text\":\"Legend\"}}}],\"label\":\"Counts\",\"method\":\"update\"},{\"args\":[{\"visible\":[false,false,true,true]},{\"yaxis\":{\"title\":\"Proportion of Recommendations\"},\"legend\":{\"title\":{\"text\":\"Legend\"}}}],\"label\":\"Proportions\",\"method\":\"update\"}],\"direction\":\"down\",\"showactive\":true}],\"barmode\":\"group\",\"title\":{\"text\":\"Organization Types: Counts vs. Proportions\"},\"xaxis\":{\"title\":{\"text\":\"Organization Type\"}},\"yaxis\":{\"title\":{\"text\":\"Number of Recommendations\"}}},                        {\"responsive\": true}                    ).then(function(){\n",
       "                            \n",
       "var gd = document.getElementById('30fecd74-99d9-490d-8b8e-74449b4ca5aa');\n",
       "var x = new MutationObserver(function (mutations, observer) {{\n",
       "        var display = window.getComputedStyle(gd).display;\n",
       "        if (!display || display === 'none') {{\n",
       "            console.log([gd, 'removed!']);\n",
       "            Plotly.purge(gd);\n",
       "            observer.disconnect();\n",
       "        }}\n",
       "}});\n",
       "\n",
       "// Listen for the removal of the full notebook cells\n",
       "var notebookContainer = gd.closest('#notebook-container');\n",
       "if (notebookContainer) {{\n",
       "    x.observe(notebookContainer, {childList: true});\n",
       "}}\n",
       "\n",
       "// Listen for the clearing of the current output cell\n",
       "var outputEl = gd.closest('.output');\n",
       "if (outputEl) {{\n",
       "    x.observe(outputEl, {childList: true});\n",
       "}}\n",
       "\n",
       "                        })                };            </script>        </div>"
      ]
     },
     "metadata": {},
     "output_type": "display_data"
    }
   ],
   "source": [
    "import pandas as pd\n",
    "import plotly.express as px\n",
    "import plotly.io as pio\n",
    "import plotly.graph_objects as go\n",
    "from IPython.display import display\n",
    "\n",
    "\n",
    "pio.renderers.default = 'notebook_connected'\n",
    "\n",
    "# Group counts \n",
    "overall_counts = data['OrgType'].value_counts().reset_index()\n",
    "overall_counts.columns = ['OrgType', 'Overall Count']\n",
    "\n",
    "commerce_counts = commerce_recommendations['OrgType'].value_counts().reset_index()\n",
    "commerce_counts.columns = ['OrgType', 'Commerce Count']\n",
    "\n",
    "# Merge and calculate proportions \n",
    "merged = pd.merge(overall_counts, commerce_counts, on='OrgType', how='outer').fillna(0)\n",
    "merged['Overall Proportion'] = merged['Overall Count'] / merged['Overall Count'].sum()\n",
    "merged['Commerce Proportion'] = merged['Commerce Count'] / merged['Commerce Count'].sum()\n",
    "\n",
    "# Build figure and traces \n",
    "fig = go.Figure()\n",
    "\n",
    "# Traces\n",
    "fig.add_trace(go.Bar(\n",
    "  x=merged['OrgType'],\n",
    "  y=merged['Overall Count'],\n",
    "  name='Overall (Count)',\n",
    "  visible=True\n",
    "))\n",
    "fig.add_trace(go.Bar(\n",
    "  x=merged['OrgType'],\n",
    "  y=merged['Commerce Count'],\n",
    "  name='Commerce (Count)',\n",
    "  visible=True\n",
    "))\n",
    "fig.add_trace(go.Bar(\n",
    "  x=merged['OrgType'],\n",
    "  y=merged['Overall Proportion'],\n",
    "  name='Overall (Proportion)',\n",
    "  visible=False\n",
    "))\n",
    "fig.add_trace(go.Bar(\n",
    "  x=merged['OrgType'],\n",
    "  y=merged['Commerce Proportion'],\n",
    "  name='Commerce (Proportion)',\n",
    "  visible=False\n",
    "))\n",
    "\n",
    "# Add dropdown with legend visibility toggled \n",
    "fig.update_layout(\n",
    "  updatemenus=[\n",
    "   {\n",
    "    'buttons': [\n",
    "      {\n",
    "       'label': 'Counts',\n",
    "       'method': 'update',\n",
    "       'args': [\n",
    "        {'visible': [True, True, False, False]},\n",
    "        {\n",
    "          'yaxis': {'title': 'Number of Recommendations'},\n",
    "          'legend': {'title': {'text': 'Legend'}}\n",
    "        }\n",
    "       ]\n",
    "      },\n",
    "      {\n",
    "       'label': 'Proportions',\n",
    "       'method': 'update',\n",
    "       'args': [\n",
    "        {'visible': [False, False, True, True]},\n",
    "        {\n",
    "          'yaxis': {'title': 'Proportion of Recommendations'},\n",
    "          'legend': {'title': {'text': 'Legend'}}\n",
    "        }\n",
    "       ]\n",
    "      }\n",
    "    ],\n",
    "    'direction': 'down',\n",
    "    'showactive': True\n",
    "   }\n",
    "  ],\n",
    "  barmode='group',\n",
    "  title='Organization Types: Counts vs. Proportions',\n",
    "  xaxis_title='Organization Type',\n",
    "  yaxis_title='Number of Recommendations',\n",
    "  template='ggplot2'\n",
    ")\n",
    "\n",
    "display(fig)\n"
   ]
  },
  {
   "cell_type": "markdown",
   "metadata": {},
   "source": [
    "The subset of recommendations directed at the Department of Commerce reveals a notable overrepresentation of industry associations and think tanks, suggesting that the comments assigned to Commerce are more influenced by organized industry coalitions and policy-oriented groups than by technical or research-based communities. This aligns with the Department's focus on export controls, standards, innovation policy, and economic competitiveness, areas where industry groups typically prioritize regulatory clarity and market dynamics. In contrast, academic institutions and professional societies—critical sources of subject-matter expertise—are underrepresented in Commerce-specific recommendations compared to the overall comment pool. This imbalance highlights the risk of underweighting academic and technical perspectives, which are essential for assessing the feasibility, risks, and long-term implications of AI development."
   ]
  },
  {
   "cell_type": "markdown",
   "metadata": {},
   "source": [
    "## Recommendations by topic, stacked by bureau"
   ]
  },
  {
   "cell_type": "code",
   "execution_count": 60,
   "metadata": {},
   "outputs": [
    {
     "data": {
      "text/html": [
       "<div>            <script src=\"https://cdnjs.cloudflare.com/ajax/libs/mathjax/2.7.5/MathJax.js?config=TeX-AMS-MML_SVG\"></script><script type=\"text/javascript\">if (window.MathJax && window.MathJax.Hub && window.MathJax.Hub.Config) {window.MathJax.Hub.Config({SVG: {font: \"STIX-Web\"}});}</script>                <script type=\"text/javascript\">window.PlotlyConfig = {MathJaxConfig: 'local'};</script>\n",
       "        <script charset=\"utf-8\" src=\"https://cdn.plot.ly/plotly-3.0.0.min.js\"></script>                <div id=\"2a31943d-eabe-489e-8a6b-5b9605e8e3fd\" class=\"plotly-graph-div\" style=\"height:525px; width:100%;\"></div>            <script type=\"text/javascript\">                window.PLOTLYENV=window.PLOTLYENV || {};                                if (document.getElementById(\"2a31943d-eabe-489e-8a6b-5b9605e8e3fd\")) {                    Plotly.newPlot(                        \"2a31943d-eabe-489e-8a6b-5b9605e8e3fd\",                        [{\"hovertemplate\":\"Topic=%{x}\\u003cbr\\u003eNumber of Recommendations=%{y}\\u003cextra\\u003e\\u003c\\u002fextra\\u003e\",\"legendgroup\":\"\",\"marker\":{\"color\":\"#F8766D\",\"pattern\":{\"shape\":\"\"}},\"name\":\"\",\"orientation\":\"v\",\"showlegend\":false,\"textposition\":\"auto\",\"x\":[\"Standards & Regulation\",\"Evidence of Risks\",\"Security\",\"Infrastructure\",\"Global engagement\",\"Export Controls\",\"Deregulation\",\"Infrastructure\",\"Deregulation\",\"Data & IP\",\"Market Impacts\",\"Standards & Regulation\",\"Security\",\"Infrastructure\",\"Data & IP\",\"Global engagement\",\"Export Controls\",\"Deregulation\",\"Procurement\",\"Market Impacts\",\"Talent & Education\",\"Other Sectors\",\"Standards & Regulation\",\"Infrastructure\",\"Standards & Regulation\",\"Evidence of Risks\",\"Security\",\"Infrastructure\",\"Data & IP\",\"Global engagement\",\"Deregulation\",\"Basic Science\",\"Procurement\",\"Ethics & Civil Rights\",\"Market Impacts\",\"Talent & Education\",\"Open Source\",\"Healthcare\",\"Other Sectors\",\"Biosecurity\",\"Finance\",\"Infrastructure\",\"Data & IP\",\"Deregulation\",\"Basic Science\",\"Procurement\",\"Other Sectors\",\"Infrastructure\",\"Procurement\",\"Other Sectors\",\"Standards & Regulation\",\"Evidence of Risks\",\"Security\",\"Infrastructure\",\"Data & IP\",\"Export Controls\",\"Deregulation\",\"Basic Science\",\"Procurement\",\"Market Impacts\",\"Talent & Education\",\"Healthcare\",\"Infrastructure\",\"Global engagement\",\"Export Controls\"],\"xaxis\":\"x\",\"y\":{\"dtype\":\"i2\",\"bdata\":\"AgABAAQABQAFABgAAQABAAEAAgACAAIAAgAHAAEABAAJAAMAAQABAAEAAQABAAEAmQBCAC4AGwAOABsAEAAPAAgADAAHAAcACAAHAAEABAAEAAIAAQABAAEAAQABAAIAAgACAAIAAQABAAEAEwABAAYAAQABAAEAAQABAAEAAQACAA==\"},\"yaxis\":\"y\",\"type\":\"bar\"}],                        {\"template\":{\"data\":{\"barpolar\":[{\"marker\":{\"line\":{\"color\":\"rgb(237,237,237)\",\"width\":0.5},\"pattern\":{\"fillmode\":\"overlay\",\"size\":10,\"solidity\":0.2}},\"type\":\"barpolar\"}],\"bar\":[{\"error_x\":{\"color\":\"rgb(51,51,51)\"},\"error_y\":{\"color\":\"rgb(51,51,51)\"},\"marker\":{\"line\":{\"color\":\"rgb(237,237,237)\",\"width\":0.5},\"pattern\":{\"fillmode\":\"overlay\",\"size\":10,\"solidity\":0.2}},\"type\":\"bar\"}],\"carpet\":[{\"aaxis\":{\"endlinecolor\":\"rgb(51,51,51)\",\"gridcolor\":\"white\",\"linecolor\":\"white\",\"minorgridcolor\":\"white\",\"startlinecolor\":\"rgb(51,51,51)\"},\"baxis\":{\"endlinecolor\":\"rgb(51,51,51)\",\"gridcolor\":\"white\",\"linecolor\":\"white\",\"minorgridcolor\":\"white\",\"startlinecolor\":\"rgb(51,51,51)\"},\"type\":\"carpet\"}],\"choropleth\":[{\"colorbar\":{\"outlinewidth\":0,\"tickcolor\":\"rgb(237,237,237)\",\"ticklen\":6,\"ticks\":\"inside\"},\"type\":\"choropleth\"}],\"contourcarpet\":[{\"colorbar\":{\"outlinewidth\":0,\"tickcolor\":\"rgb(237,237,237)\",\"ticklen\":6,\"ticks\":\"inside\"},\"type\":\"contourcarpet\"}],\"contour\":[{\"colorbar\":{\"outlinewidth\":0,\"tickcolor\":\"rgb(237,237,237)\",\"ticklen\":6,\"ticks\":\"inside\"},\"colorscale\":[[0,\"rgb(20,44,66)\"],[1,\"rgb(90,179,244)\"]],\"type\":\"contour\"}],\"heatmap\":[{\"colorbar\":{\"outlinewidth\":0,\"tickcolor\":\"rgb(237,237,237)\",\"ticklen\":6,\"ticks\":\"inside\"},\"colorscale\":[[0,\"rgb(20,44,66)\"],[1,\"rgb(90,179,244)\"]],\"type\":\"heatmap\"}],\"histogram2dcontour\":[{\"colorbar\":{\"outlinewidth\":0,\"tickcolor\":\"rgb(237,237,237)\",\"ticklen\":6,\"ticks\":\"inside\"},\"colorscale\":[[0,\"rgb(20,44,66)\"],[1,\"rgb(90,179,244)\"]],\"type\":\"histogram2dcontour\"}],\"histogram2d\":[{\"colorbar\":{\"outlinewidth\":0,\"tickcolor\":\"rgb(237,237,237)\",\"ticklen\":6,\"ticks\":\"inside\"},\"colorscale\":[[0,\"rgb(20,44,66)\"],[1,\"rgb(90,179,244)\"]],\"type\":\"histogram2d\"}],\"histogram\":[{\"marker\":{\"pattern\":{\"fillmode\":\"overlay\",\"size\":10,\"solidity\":0.2}},\"type\":\"histogram\"}],\"mesh3d\":[{\"colorbar\":{\"outlinewidth\":0,\"tickcolor\":\"rgb(237,237,237)\",\"ticklen\":6,\"ticks\":\"inside\"},\"type\":\"mesh3d\"}],\"parcoords\":[{\"line\":{\"colorbar\":{\"outlinewidth\":0,\"tickcolor\":\"rgb(237,237,237)\",\"ticklen\":6,\"ticks\":\"inside\"}},\"type\":\"parcoords\"}],\"pie\":[{\"automargin\":true,\"type\":\"pie\"}],\"scatter3d\":[{\"line\":{\"colorbar\":{\"outlinewidth\":0,\"tickcolor\":\"rgb(237,237,237)\",\"ticklen\":6,\"ticks\":\"inside\"}},\"marker\":{\"colorbar\":{\"outlinewidth\":0,\"tickcolor\":\"rgb(237,237,237)\",\"ticklen\":6,\"ticks\":\"inside\"}},\"type\":\"scatter3d\"}],\"scattercarpet\":[{\"marker\":{\"colorbar\":{\"outlinewidth\":0,\"tickcolor\":\"rgb(237,237,237)\",\"ticklen\":6,\"ticks\":\"inside\"}},\"type\":\"scattercarpet\"}],\"scattergeo\":[{\"marker\":{\"colorbar\":{\"outlinewidth\":0,\"tickcolor\":\"rgb(237,237,237)\",\"ticklen\":6,\"ticks\":\"inside\"}},\"type\":\"scattergeo\"}],\"scattergl\":[{\"marker\":{\"colorbar\":{\"outlinewidth\":0,\"tickcolor\":\"rgb(237,237,237)\",\"ticklen\":6,\"ticks\":\"inside\"}},\"type\":\"scattergl\"}],\"scattermapbox\":[{\"marker\":{\"colorbar\":{\"outlinewidth\":0,\"tickcolor\":\"rgb(237,237,237)\",\"ticklen\":6,\"ticks\":\"inside\"}},\"type\":\"scattermapbox\"}],\"scattermap\":[{\"marker\":{\"colorbar\":{\"outlinewidth\":0,\"tickcolor\":\"rgb(237,237,237)\",\"ticklen\":6,\"ticks\":\"inside\"}},\"type\":\"scattermap\"}],\"scatterpolargl\":[{\"marker\":{\"colorbar\":{\"outlinewidth\":0,\"tickcolor\":\"rgb(237,237,237)\",\"ticklen\":6,\"ticks\":\"inside\"}},\"type\":\"scatterpolargl\"}],\"scatterpolar\":[{\"marker\":{\"colorbar\":{\"outlinewidth\":0,\"tickcolor\":\"rgb(237,237,237)\",\"ticklen\":6,\"ticks\":\"inside\"}},\"type\":\"scatterpolar\"}],\"scatter\":[{\"fillpattern\":{\"fillmode\":\"overlay\",\"size\":10,\"solidity\":0.2},\"type\":\"scatter\"}],\"scatterternary\":[{\"marker\":{\"colorbar\":{\"outlinewidth\":0,\"tickcolor\":\"rgb(237,237,237)\",\"ticklen\":6,\"ticks\":\"inside\"}},\"type\":\"scatterternary\"}],\"surface\":[{\"colorbar\":{\"outlinewidth\":0,\"tickcolor\":\"rgb(237,237,237)\",\"ticklen\":6,\"ticks\":\"inside\"},\"colorscale\":[[0,\"rgb(20,44,66)\"],[1,\"rgb(90,179,244)\"]],\"type\":\"surface\"}],\"table\":[{\"cells\":{\"fill\":{\"color\":\"rgb(237,237,237)\"},\"line\":{\"color\":\"white\"}},\"header\":{\"fill\":{\"color\":\"rgb(217,217,217)\"},\"line\":{\"color\":\"white\"}},\"type\":\"table\"}]},\"layout\":{\"annotationdefaults\":{\"arrowhead\":0,\"arrowwidth\":1},\"autotypenumbers\":\"strict\",\"coloraxis\":{\"colorbar\":{\"outlinewidth\":0,\"tickcolor\":\"rgb(237,237,237)\",\"ticklen\":6,\"ticks\":\"inside\"}},\"colorscale\":{\"sequential\":[[0,\"rgb(20,44,66)\"],[1,\"rgb(90,179,244)\"]],\"sequentialminus\":[[0,\"rgb(20,44,66)\"],[1,\"rgb(90,179,244)\"]]},\"colorway\":[\"#F8766D\",\"#A3A500\",\"#00BF7D\",\"#00B0F6\",\"#E76BF3\"],\"font\":{\"color\":\"rgb(51,51,51)\"},\"geo\":{\"bgcolor\":\"white\",\"lakecolor\":\"white\",\"landcolor\":\"rgb(237,237,237)\",\"showlakes\":true,\"showland\":true,\"subunitcolor\":\"white\"},\"hoverlabel\":{\"align\":\"left\"},\"hovermode\":\"closest\",\"paper_bgcolor\":\"white\",\"plot_bgcolor\":\"rgb(237,237,237)\",\"polar\":{\"angularaxis\":{\"gridcolor\":\"white\",\"linecolor\":\"white\",\"showgrid\":true,\"tickcolor\":\"rgb(51,51,51)\",\"ticks\":\"outside\"},\"bgcolor\":\"rgb(237,237,237)\",\"radialaxis\":{\"gridcolor\":\"white\",\"linecolor\":\"white\",\"showgrid\":true,\"tickcolor\":\"rgb(51,51,51)\",\"ticks\":\"outside\"}},\"scene\":{\"xaxis\":{\"backgroundcolor\":\"rgb(237,237,237)\",\"gridcolor\":\"white\",\"gridwidth\":2,\"linecolor\":\"white\",\"showbackground\":true,\"showgrid\":true,\"tickcolor\":\"rgb(51,51,51)\",\"ticks\":\"outside\",\"zerolinecolor\":\"white\"},\"yaxis\":{\"backgroundcolor\":\"rgb(237,237,237)\",\"gridcolor\":\"white\",\"gridwidth\":2,\"linecolor\":\"white\",\"showbackground\":true,\"showgrid\":true,\"tickcolor\":\"rgb(51,51,51)\",\"ticks\":\"outside\",\"zerolinecolor\":\"white\"},\"zaxis\":{\"backgroundcolor\":\"rgb(237,237,237)\",\"gridcolor\":\"white\",\"gridwidth\":2,\"linecolor\":\"white\",\"showbackground\":true,\"showgrid\":true,\"tickcolor\":\"rgb(51,51,51)\",\"ticks\":\"outside\",\"zerolinecolor\":\"white\"}},\"shapedefaults\":{\"fillcolor\":\"black\",\"line\":{\"width\":0},\"opacity\":0.3},\"ternary\":{\"aaxis\":{\"gridcolor\":\"white\",\"linecolor\":\"white\",\"showgrid\":true,\"tickcolor\":\"rgb(51,51,51)\",\"ticks\":\"outside\"},\"baxis\":{\"gridcolor\":\"white\",\"linecolor\":\"white\",\"showgrid\":true,\"tickcolor\":\"rgb(51,51,51)\",\"ticks\":\"outside\"},\"bgcolor\":\"rgb(237,237,237)\",\"caxis\":{\"gridcolor\":\"white\",\"linecolor\":\"white\",\"showgrid\":true,\"tickcolor\":\"rgb(51,51,51)\",\"ticks\":\"outside\"}},\"xaxis\":{\"automargin\":true,\"gridcolor\":\"white\",\"linecolor\":\"white\",\"showgrid\":true,\"tickcolor\":\"rgb(51,51,51)\",\"ticks\":\"outside\",\"title\":{\"standoff\":15},\"zerolinecolor\":\"white\"},\"yaxis\":{\"automargin\":true,\"gridcolor\":\"white\",\"linecolor\":\"white\",\"showgrid\":true,\"tickcolor\":\"rgb(51,51,51)\",\"ticks\":\"outside\",\"title\":{\"standoff\":15},\"zerolinecolor\":\"white\"}}},\"xaxis\":{\"anchor\":\"y\",\"domain\":[0.0,1.0],\"title\":{\"text\":\"Topic\"},\"tickangle\":-45},\"yaxis\":{\"anchor\":\"x\",\"domain\":[0.0,1.0],\"title\":{\"text\":\"Number of Recommendations\"}},\"legend\":{\"tracegroupgap\":0},\"title\":{\"text\":\"Recommendation Count by Topic (Stacked by Assignee)\"},\"barmode\":\"stack\",\"annotations\":[{\"font\":{\"color\":\"black\",\"size\":12},\"showarrow\":false,\"text\":\"17\",\"x\":\"Basic Science\",\"y\":17,\"yshift\":10},{\"font\":{\"color\":\"black\",\"size\":12},\"showarrow\":false,\"text\":\"4\",\"x\":\"Biosecurity\",\"y\":4,\"yshift\":10},{\"font\":{\"color\":\"black\",\"size\":12},\"showarrow\":false,\"text\":\"37\",\"x\":\"Data & IP\",\"y\":37,\"yshift\":10},{\"font\":{\"color\":\"black\",\"size\":12},\"showarrow\":false,\"text\":\"28\",\"x\":\"Deregulation\",\"y\":28,\"yshift\":10},{\"font\":{\"color\":\"black\",\"size\":12},\"showarrow\":false,\"text\":\"12\",\"x\":\"Ethics & Civil Rights\",\"y\":12,\"yshift\":10},{\"font\":{\"color\":\"black\",\"size\":12},\"showarrow\":false,\"text\":\"68\",\"x\":\"Evidence of Risks\",\"y\":68,\"yshift\":10},{\"font\":{\"color\":\"black\",\"size\":12},\"showarrow\":false,\"text\":\"36\",\"x\":\"Export Controls\",\"y\":36,\"yshift\":10},{\"font\":{\"color\":\"black\",\"size\":12},\"showarrow\":false,\"text\":\"4\",\"x\":\"Finance\",\"y\":4,\"yshift\":10},{\"font\":{\"color\":\"black\",\"size\":12},\"showarrow\":false,\"text\":\"37\",\"x\":\"Global engagement\",\"y\":37,\"yshift\":10},{\"font\":{\"color\":\"black\",\"size\":12},\"showarrow\":false,\"text\":\"8\",\"x\":\"Healthcare\",\"y\":8,\"yshift\":10},{\"font\":{\"color\":\"black\",\"size\":12},\"showarrow\":false,\"text\":\"47\",\"x\":\"Infrastructure\",\"y\":47,\"yshift\":10},{\"font\":{\"color\":\"black\",\"size\":12},\"showarrow\":false,\"text\":\"11\",\"x\":\"Market Impacts\",\"y\":11,\"yshift\":10},{\"font\":{\"color\":\"black\",\"size\":12},\"showarrow\":false,\"text\":\"8\",\"x\":\"Open Source\",\"y\":8,\"yshift\":10},{\"font\":{\"color\":\"black\",\"size\":12},\"showarrow\":false,\"text\":\"5\",\"x\":\"Other Sectors\",\"y\":5,\"yshift\":10},{\"font\":{\"color\":\"black\",\"size\":12},\"showarrow\":false,\"text\":\"13\",\"x\":\"Procurement\",\"y\":13,\"yshift\":10},{\"font\":{\"color\":\"black\",\"size\":12},\"showarrow\":false,\"text\":\"53\",\"x\":\"Security\",\"y\":53,\"yshift\":10},{\"font\":{\"color\":\"black\",\"size\":12},\"showarrow\":false,\"text\":\"160\",\"x\":\"Standards & Regulation\",\"y\":160,\"yshift\":10},{\"font\":{\"color\":\"black\",\"size\":12},\"showarrow\":false,\"text\":\"9\",\"x\":\"Talent & Education\",\"y\":9,\"yshift\":10}]},                        {\"responsive\": true}                    ).then(function(){\n",
       "                            \n",
       "var gd = document.getElementById('2a31943d-eabe-489e-8a6b-5b9605e8e3fd');\n",
       "var x = new MutationObserver(function (mutations, observer) {{\n",
       "        var display = window.getComputedStyle(gd).display;\n",
       "        if (!display || display === 'none') {{\n",
       "            console.log([gd, 'removed!']);\n",
       "            Plotly.purge(gd);\n",
       "            observer.disconnect();\n",
       "        }}\n",
       "}});\n",
       "\n",
       "// Listen for the removal of the full notebook cells\n",
       "var notebookContainer = gd.closest('#notebook-container');\n",
       "if (notebookContainer) {{\n",
       "    x.observe(notebookContainer, {childList: true});\n",
       "}}\n",
       "\n",
       "// Listen for the clearing of the current output cell\n",
       "var outputEl = gd.closest('.output');\n",
       "if (outputEl) {{\n",
       "    x.observe(outputEl, {childList: true});\n",
       "}}\n",
       "\n",
       "                        })                };            </script>        </div>"
      ]
     },
     "metadata": {},
     "output_type": "display_data"
    }
   ],
   "source": [
    "exploded_df = commerce_recommendations.copy()\n",
    "exploded_df['Topic'] = exploded_df['Topic'].str.split(',')\n",
    "\n",
    "# Remove leading/trailing whitespace from topics\n",
    "exploded_df = exploded_df.explode('Topic')\n",
    "exploded_df['Topic'] = exploded_df['Topic'].str.strip()\n",
    "\n",
    "# Group by cleaned Topic and Assignee, then count\n",
    "grouped = exploded_df.groupby(['Topic', 'Assignee']).size().reset_index(name='Count')\n",
    "\n",
    "# Pivot the table to get one row per Topic\n",
    "topic_wide = grouped.pivot(index='Topic', columns='Assignee', values='Count').fillna(0).astype(int).reset_index()\n",
    "\n",
    "# Sort by total count across all assignees\n",
    "topic_wide['Total'] = topic_wide.drop(columns='Topic').sum(axis=1)\n",
    "topic_wide = topic_wide.sort_values(by='Total', ascending=False).drop(columns='Total')\n",
    "\n",
    "topic_wide\n",
    "\n",
    "df = topic_wide\n",
    "\n",
    "\n",
    "# Combine AISI and National Semiconductor Technology Center into NIST\n",
    "df['NIST'] = df['NIST'] + df['AISI'] + df['National Semiconductor Technology Center']\n",
    "\n",
    "# Combine PTO and Patent and Trial Appeal Board into USPTO\n",
    "df['USPTO'] = df['USPTO'] + df['PTO'] + df['Patent and Trial Appeal Board']\n",
    "\n",
    "# Drop merged columns\n",
    "df = df.drop(columns=['AISI', 'National Semiconductor Technology Center', 'PTO', 'Patent and Trial Appeal Board'])\n",
    "\n",
    "# Melt to long format\n",
    "df_long = df.melt(id_vars='Topic', var_name='Assignee', value_name='Count')\n",
    "df_long = df_long[df_long['Count'] > 0]\n",
    "\n",
    "# Calculate total counts for each topic\n",
    "totals = df_long.groupby('Topic')['Count'].sum().reset_index()\n",
    "\n",
    "# Reorder Topic by total count (largest to smallest)\n",
    "topic_order = totals.sort_values('Count', ascending=False)['Topic']\n",
    "df_long['Topic'] = pd.Categorical(df_long['Topic'], categories=topic_order, ordered=True)\n",
    "\n",
    "# Create stacked bar chart\n",
    "fig = px.bar(\n",
    "  df_long,\n",
    "  x='Topic',\n",
    "  y='Count',\n",
    "  title='Recommendation Count by Topic (Stacked by Assignee)',\n",
    "  labels={'Count': 'Number of Recommendations'},\n",
    "  # color_discrete_sequence=px.colors.qualitative.Set3\n",
    "  template='ggplot2'\n",
    ")\n",
    "\n",
    "fig.update_layout(barmode='stack', xaxis_tickangle=-45)\n",
    "\n",
    "\n",
    "# Add annotations\n",
    "for i, row in totals.iterrows():\n",
    "  fig.add_annotation(\n",
    "   x=row['Topic'],\n",
    "   y=row['Count'],\n",
    "   text=str(row['Count']),\n",
    "   showarrow=False,\n",
    "   yshift=10,\n",
    "   font=dict(size=12, color='black')\n",
    "  )\n",
    "\n",
    "display(fig)\n"
   ]
  },
  {
   "cell_type": "code",
   "execution_count": 59,
   "metadata": {},
   "outputs": [
    {
     "data": {
      "text/html": [
       "<div>            <script src=\"https://cdnjs.cloudflare.com/ajax/libs/mathjax/2.7.5/MathJax.js?config=TeX-AMS-MML_SVG\"></script><script type=\"text/javascript\">if (window.MathJax && window.MathJax.Hub && window.MathJax.Hub.Config) {window.MathJax.Hub.Config({SVG: {font: \"STIX-Web\"}});}</script>                <script type=\"text/javascript\">window.PlotlyConfig = {MathJaxConfig: 'local'};</script>\n",
       "        <script charset=\"utf-8\" src=\"https://cdn.plot.ly/plotly-3.0.0.min.js\"></script>                <div id=\"2ecdb94f-6196-4732-90d4-3969021a1a22\" class=\"plotly-graph-div\" style=\"height:525px; width:100%;\"></div>            <script type=\"text/javascript\">                window.PLOTLYENV=window.PLOTLYENV || {};                                if (document.getElementById(\"2ecdb94f-6196-4732-90d4-3969021a1a22\")) {                    Plotly.newPlot(                        \"2ecdb94f-6196-4732-90d4-3969021a1a22\",                        [{\"branchvalues\":\"total\",\"customdata\":[[\"(?)\"],[\"(?)\"],[\"(?)\"],[\"(?)\"],[\"(?)\"],[\"(?)\"],[\"(?)\"],[\"(?)\"],[\"(?)\"],[\"(?)\"],[\"(?)\"],[\"(?)\"],[\"(?)\"],[\"(?)\"],[\"Bureau of Industry and Security (BIS)\"],[\"Bureau of Industry and Security (BIS)\"],[\"Bureau of Industry and Security (BIS)\"],[\"Bureau of Industry and Security (BIS)\"],[\"Bureau of Industry and Security (BIS)\"],[\"Bureau of Industry and Security (BIS)\"],[\"Bureau of Industry and Security (BIS)\"],[\"CHIPS Program Office\"],[\"CHIPS Program Office\"],[\"Census Bureau\"],[\"Census Bureau\"],[\"Department of Commerce\"],[\"Department of Commerce\"],[\"Department of Commerce\"],[\"Department of Commerce\"],[\"Department of Commerce\"],[\"Department of Commerce\"],[\"Department of Commerce\"],[\"Department of Commerce\"],[\"Department of Commerce\"],[\"Department of Commerce\"],[\"Department of Commerce\"],[\"Manufacturing USA\"],[\"Manufacturing USA\"],[\"NIST\"],[\"NIST\"],[\"NIST\"],[\"NIST\"],[\"NIST\"],[\"NIST\"],[\"NIST\"],[\"NIST\"],[\"NIST\"],[\"NIST\"],[\"NIST\"],[\"NIST\"],[\"NIST\"],[\"NIST\"],[\"NIST\"],[\"NIST\"],[\"NIST\"],[\"NIST\"],[\"NIST\"],[\"NIST\"],[\"NIST\"],[\"NOAA\"],[\"NOAA\"],[\"NOAA\"],[\"NOAA\"],[\"NOAA\"],[\"NOAA\"],[\"SelectUSA\"],[\"SelectUSA\"],[\"SelectUSA\"],[\"USPTO\"],[\"USPTO\"],[\"USPTO\"],[\"USPTO\"],[\"USPTO\"],[\"USPTO\"],[\"USPTO\"],[\"USPTO\"],[\"USPTO\"],[\"USPTO\"],[\"USPTO\"],[\"USPTO\"],[\"USTR\"],[\"USTR\"],[\"USTR\"]],\"domain\":{\"x\":[0.0,1.0],\"y\":[0.0,1.0]},\"hovertemplate\":\"labels=%{label}\\u003cbr\\u003eCount=%{value}\\u003cbr\\u003eparent=%{parent}\\u003cbr\\u003eid=%{id}\\u003cbr\\u003eAssignee=%{customdata[0]}\\u003cextra\\u003e\\u003c\\u002fextra\\u003e\",\"ids\":[\"Security\",\"Other Sectors\",\"Talent & Education\",\"Standards & Regulation\",\"Procurement\",\"Market Impacts\",\"Data & IP\",\"Deregulation\",\"Export Controls\",\"Global engagement\",\"Infrastructure\",\"Basic Science\",\"Healthcare\",\"Evidence of Risks\",\"Deregulation\\u002fBureau of Industry and Security (BIS)\",\"Export Controls\\u002fBureau of Industry and Security (BIS)\",\"Global engagement\\u002fBureau of Industry and Security (BIS)\",\"Infrastructure\\u002fBureau of Industry and Security (BIS)\",\"Security\\u002fBureau of Industry and Security (BIS)\",\"Evidence of Risks\\u002fBureau of Industry and Security (BIS)\",\"Standards & Regulation\\u002fBureau of Industry and Security (BIS)\",\"Deregulation\\u002fCHIPS Program Office\",\"Infrastructure\\u002fCHIPS Program Office\",\"Market Impacts\\u002fCensus Bureau\",\"Data & IP\\u002fCensus Bureau\",\"Talent & Education\\u002fDepartment of Commerce\",\"Other Sectors\\u002fDepartment of Commerce\",\"Market Impacts\\u002fDepartment of Commerce\",\"Procurement\\u002fDepartment of Commerce\",\"Deregulation\\u002fDepartment of Commerce\",\"Export Controls\\u002fDepartment of Commerce\",\"Global engagement\\u002fDepartment of Commerce\",\"Data & IP\\u002fDepartment of Commerce\",\"Infrastructure\\u002fDepartment of Commerce\",\"Security\\u002fDepartment of Commerce\",\"Standards & Regulation\\u002fDepartment of Commerce\",\"Infrastructure\\u002fManufacturing USA\",\"Standards & Regulation\\u002fManufacturing USA\",\"Ethics & Civil Rights\",\"Open Source\",\"Biosecurity\",\"Finance\",\"Basic Science\\u002fNIST\",\"Other Sectors\\u002fNIST\",\"Healthcare\\u002fNIST\",\"Open Source\\u002fNIST\",\"Talent & Education\\u002fNIST\",\"Market Impacts\\u002fNIST\",\"Ethics & Civil Rights\\u002fNIST\",\"Procurement\\u002fNIST\",\"Finance\\u002fNIST\",\"Deregulation\\u002fNIST\",\"Global engagement\\u002fNIST\",\"Data & IP\\u002fNIST\",\"Infrastructure\\u002fNIST\",\"Security\\u002fNIST\",\"Evidence of Risks\\u002fNIST\",\"Standards & Regulation\\u002fNIST\",\"Biosecurity\\u002fNIST\",\"Data & IP\\u002fNOAA\",\"Infrastructure\\u002fNOAA\",\"Deregulation\\u002fNOAA\",\"Basic Science\\u002fNOAA\",\"Procurement\\u002fNOAA\",\"Other Sectors\\u002fNOAA\",\"Infrastructure\\u002fSelectUSA\",\"Procurement\\u002fSelectUSA\",\"Other Sectors\\u002fSelectUSA\",\"Healthcare\\u002fUSPTO\",\"Standards & Regulation\\u002fUSPTO\",\"Evidence of Risks\\u002fUSPTO\",\"Security\\u002fUSPTO\",\"Infrastructure\\u002fUSPTO\",\"Data & IP\\u002fUSPTO\",\"Export Controls\\u002fUSPTO\",\"Deregulation\\u002fUSPTO\",\"Basic Science\\u002fUSPTO\",\"Procurement\\u002fUSPTO\",\"Market Impacts\\u002fUSPTO\",\"Talent & Education\\u002fUSPTO\",\"Export Controls\\u002fUSTR\",\"Global engagement\\u002fUSTR\",\"Infrastructure\\u002fUSTR\"],\"labels\":[\"Security\",\"Other Sectors\",\"Talent & Education\",\"Standards & Regulation\",\"Procurement\",\"Market Impacts\",\"Data & IP\",\"Deregulation\",\"Export Controls\",\"Global engagement\",\"Infrastructure\",\"Basic Science\",\"Healthcare\",\"Evidence of Risks\",\"Bureau of Industry and Security (BIS)\",\"Bureau of Industry and Security (BIS)\",\"Bureau of Industry and Security (BIS)\",\"Bureau of Industry and Security (BIS)\",\"Bureau of Industry and Security (BIS)\",\"Bureau of Industry and Security (BIS)\",\"Bureau of Industry and Security (BIS)\",\"CHIPS Program Office\",\"CHIPS Program Office\",\"Census Bureau\",\"Census Bureau\",\"Department of Commerce\",\"Department of Commerce\",\"Department of Commerce\",\"Department of Commerce\",\"Department of Commerce\",\"Department of Commerce\",\"Department of Commerce\",\"Department of Commerce\",\"Department of Commerce\",\"Department of Commerce\",\"Department of Commerce\",\"Manufacturing USA\",\"Manufacturing USA\",\"Ethics & Civil Rights\",\"Open Source\",\"Biosecurity\",\"Finance\",\"NIST\",\"NIST\",\"NIST\",\"NIST\",\"NIST\",\"NIST\",\"NIST\",\"NIST\",\"NIST\",\"NIST\",\"NIST\",\"NIST\",\"NIST\",\"NIST\",\"NIST\",\"NIST\",\"NIST\",\"NOAA\",\"NOAA\",\"NOAA\",\"NOAA\",\"NOAA\",\"NOAA\",\"SelectUSA\",\"SelectUSA\",\"SelectUSA\",\"USPTO\",\"USPTO\",\"USPTO\",\"USPTO\",\"USPTO\",\"USPTO\",\"USPTO\",\"USPTO\",\"USPTO\",\"USPTO\",\"USPTO\",\"USPTO\",\"USTR\",\"USTR\",\"USTR\"],\"marker\":{\"colors\":[\"rgb(255,237,111)\",\"rgb(255,237,111)\",\"rgb(255,237,111)\",\"rgb(255,237,111)\",\"rgb(255,237,111)\",\"rgb(255,237,111)\",\"rgb(255,237,111)\",\"rgb(255,237,111)\",\"rgb(255,237,111)\",\"rgb(255,237,111)\",\"rgb(255,237,111)\",\"rgb(255,237,111)\",\"rgb(255,237,111)\",\"rgb(255,237,111)\",\"rgb(204,235,197)\",\"rgb(204,235,197)\",\"rgb(204,235,197)\",\"rgb(204,235,197)\",\"rgb(204,235,197)\",\"rgb(204,235,197)\",\"rgb(204,235,197)\",\"rgb(188,128,189)\",\"rgb(188,128,189)\",\"rgb(217,217,217)\",\"rgb(217,217,217)\",\"rgb(252,205,229)\",\"rgb(252,205,229)\",\"rgb(252,205,229)\",\"rgb(252,205,229)\",\"rgb(252,205,229)\",\"rgb(252,205,229)\",\"rgb(252,205,229)\",\"rgb(252,205,229)\",\"rgb(252,205,229)\",\"rgb(252,205,229)\",\"rgb(252,205,229)\",\"rgb(179,222,105)\",\"rgb(179,222,105)\",\"rgb(253,180,98)\",\"rgb(253,180,98)\",\"rgb(253,180,98)\",\"rgb(253,180,98)\",\"rgb(253,180,98)\",\"rgb(253,180,98)\",\"rgb(253,180,98)\",\"rgb(253,180,98)\",\"rgb(253,180,98)\",\"rgb(253,180,98)\",\"rgb(253,180,98)\",\"rgb(253,180,98)\",\"rgb(253,180,98)\",\"rgb(253,180,98)\",\"rgb(253,180,98)\",\"rgb(253,180,98)\",\"rgb(253,180,98)\",\"rgb(253,180,98)\",\"rgb(253,180,98)\",\"rgb(253,180,98)\",\"rgb(253,180,98)\",\"rgb(128,177,211)\",\"rgb(128,177,211)\",\"rgb(128,177,211)\",\"rgb(128,177,211)\",\"rgb(128,177,211)\",\"rgb(128,177,211)\",\"rgb(251,128,114)\",\"rgb(251,128,114)\",\"rgb(251,128,114)\",\"rgb(190,186,218)\",\"rgb(190,186,218)\",\"rgb(190,186,218)\",\"rgb(190,186,218)\",\"rgb(190,186,218)\",\"rgb(190,186,218)\",\"rgb(190,186,218)\",\"rgb(190,186,218)\",\"rgb(190,186,218)\",\"rgb(190,186,218)\",\"rgb(190,186,218)\",\"rgb(190,186,218)\",\"rgb(255,255,179)\",\"rgb(255,255,179)\",\"rgb(255,255,179)\"]},\"name\":\"\",\"parents\":[\"\",\"\",\"\",\"\",\"\",\"\",\"\",\"\",\"\",\"\",\"\",\"\",\"\",\"\",\"Deregulation\",\"Export Controls\",\"Global engagement\",\"Infrastructure\",\"Security\",\"Evidence of Risks\",\"Standards & Regulation\",\"Deregulation\",\"Infrastructure\",\"Market Impacts\",\"Data & IP\",\"Talent & Education\",\"Other Sectors\",\"Market Impacts\",\"Procurement\",\"Deregulation\",\"Export Controls\",\"Global engagement\",\"Data & IP\",\"Infrastructure\",\"Security\",\"Standards & Regulation\",\"Infrastructure\",\"Standards & Regulation\",\"\",\"\",\"\",\"\",\"Basic Science\",\"Other Sectors\",\"Healthcare\",\"Open Source\",\"Talent & Education\",\"Market Impacts\",\"Ethics & Civil Rights\",\"Procurement\",\"Finance\",\"Deregulation\",\"Global engagement\",\"Data & IP\",\"Infrastructure\",\"Security\",\"Evidence of Risks\",\"Standards & Regulation\",\"Biosecurity\",\"Data & IP\",\"Infrastructure\",\"Deregulation\",\"Basic Science\",\"Procurement\",\"Other Sectors\",\"Infrastructure\",\"Procurement\",\"Other Sectors\",\"Healthcare\",\"Standards & Regulation\",\"Evidence of Risks\",\"Security\",\"Infrastructure\",\"Data & IP\",\"Export Controls\",\"Deregulation\",\"Basic Science\",\"Procurement\",\"Market Impacts\",\"Talent & Education\",\"Export Controls\",\"Global engagement\",\"Infrastructure\"],\"values\":{\"dtype\":\"f8\",\"bdata\":\"AAAAAACASkAAAAAAAAAUQAAAAAAAACJAAAAAAAAAZEAAAAAAAAAqQAAAAAAAACZAAAAAAACAQkAAAAAAAAA8QAAAAAAAAEJAAAAAAACAQkAAAAAAAIBHQAAAAAAAADFAAAAAAAAAIEAAAAAAAABRQAAAAAAAAPA\\u002fAAAAAAAAOEAAAAAAAAAUQAAAAAAAABRAAAAAAAAAEEAAAAAAAADwPwAAAAAAAABAAAAAAAAA8D8AAAAAAADwPwAAAAAAAABAAAAAAAAAAEAAAAAAAADwPwAAAAAAAPA\\u002fAAAAAAAA8D8AAAAAAADwPwAAAAAAAAhAAAAAAAAAIkAAAAAAAAAQQAAAAAAAAPA\\u002fAAAAAAAAHEAAAAAAAAAAQAAAAAAAAABAAAAAAAAA8D8AAAAAAADwPwAAAAAAAChAAAAAAAAAIEAAAAAAAAAQQAAAAAAAABBAAAAAAAAALkAAAAAAAADwPwAAAAAAABxAAAAAAAAAIEAAAAAAAAAcQAAAAAAAABxAAAAAAAAAKEAAAAAAAAAgQAAAAAAAABBAAAAAAAAAMEAAAAAAAAA7QAAAAAAAACxAAAAAAAAAO0AAAAAAAABHQAAAAAAAgFBAAAAAAAAgY0AAAAAAAAAQQAAAAAAAAPA\\u002fAAAAAAAAAEAAAAAAAADwPwAAAAAAAPA\\u002fAAAAAAAA8D8AAAAAAADwPwAAAAAAAABAAAAAAAAAAEAAAAAAAAAAQAAAAAAAAPA\\u002fAAAAAAAAAEAAAAAAAADwPwAAAAAAAPA\\u002fAAAAAAAA8D8AAAAAAAAzQAAAAAAAAPA\\u002fAAAAAAAAGEAAAAAAAADwPwAAAAAAAPA\\u002fAAAAAAAA8D8AAAAAAADwPwAAAAAAAABAAAAAAAAA8D8AAAAAAADwPw==\"},\"type\":\"treemap\"}],                        {\"template\":{\"data\":{\"histogram2dcontour\":[{\"type\":\"histogram2dcontour\",\"colorbar\":{\"outlinewidth\":0,\"ticks\":\"\"},\"colorscale\":[[0.0,\"#0d0887\"],[0.1111111111111111,\"#46039f\"],[0.2222222222222222,\"#7201a8\"],[0.3333333333333333,\"#9c179e\"],[0.4444444444444444,\"#bd3786\"],[0.5555555555555556,\"#d8576b\"],[0.6666666666666666,\"#ed7953\"],[0.7777777777777778,\"#fb9f3a\"],[0.8888888888888888,\"#fdca26\"],[1.0,\"#f0f921\"]]}],\"choropleth\":[{\"type\":\"choropleth\",\"colorbar\":{\"outlinewidth\":0,\"ticks\":\"\"}}],\"histogram2d\":[{\"type\":\"histogram2d\",\"colorbar\":{\"outlinewidth\":0,\"ticks\":\"\"},\"colorscale\":[[0.0,\"#0d0887\"],[0.1111111111111111,\"#46039f\"],[0.2222222222222222,\"#7201a8\"],[0.3333333333333333,\"#9c179e\"],[0.4444444444444444,\"#bd3786\"],[0.5555555555555556,\"#d8576b\"],[0.6666666666666666,\"#ed7953\"],[0.7777777777777778,\"#fb9f3a\"],[0.8888888888888888,\"#fdca26\"],[1.0,\"#f0f921\"]]}],\"heatmap\":[{\"type\":\"heatmap\",\"colorbar\":{\"outlinewidth\":0,\"ticks\":\"\"},\"colorscale\":[[0.0,\"#0d0887\"],[0.1111111111111111,\"#46039f\"],[0.2222222222222222,\"#7201a8\"],[0.3333333333333333,\"#9c179e\"],[0.4444444444444444,\"#bd3786\"],[0.5555555555555556,\"#d8576b\"],[0.6666666666666666,\"#ed7953\"],[0.7777777777777778,\"#fb9f3a\"],[0.8888888888888888,\"#fdca26\"],[1.0,\"#f0f921\"]]}],\"contourcarpet\":[{\"type\":\"contourcarpet\",\"colorbar\":{\"outlinewidth\":0,\"ticks\":\"\"}}],\"contour\":[{\"type\":\"contour\",\"colorbar\":{\"outlinewidth\":0,\"ticks\":\"\"},\"colorscale\":[[0.0,\"#0d0887\"],[0.1111111111111111,\"#46039f\"],[0.2222222222222222,\"#7201a8\"],[0.3333333333333333,\"#9c179e\"],[0.4444444444444444,\"#bd3786\"],[0.5555555555555556,\"#d8576b\"],[0.6666666666666666,\"#ed7953\"],[0.7777777777777778,\"#fb9f3a\"],[0.8888888888888888,\"#fdca26\"],[1.0,\"#f0f921\"]]}],\"surface\":[{\"type\":\"surface\",\"colorbar\":{\"outlinewidth\":0,\"ticks\":\"\"},\"colorscale\":[[0.0,\"#0d0887\"],[0.1111111111111111,\"#46039f\"],[0.2222222222222222,\"#7201a8\"],[0.3333333333333333,\"#9c179e\"],[0.4444444444444444,\"#bd3786\"],[0.5555555555555556,\"#d8576b\"],[0.6666666666666666,\"#ed7953\"],[0.7777777777777778,\"#fb9f3a\"],[0.8888888888888888,\"#fdca26\"],[1.0,\"#f0f921\"]]}],\"mesh3d\":[{\"type\":\"mesh3d\",\"colorbar\":{\"outlinewidth\":0,\"ticks\":\"\"}}],\"scatter\":[{\"fillpattern\":{\"fillmode\":\"overlay\",\"size\":10,\"solidity\":0.2},\"type\":\"scatter\"}],\"parcoords\":[{\"type\":\"parcoords\",\"line\":{\"colorbar\":{\"outlinewidth\":0,\"ticks\":\"\"}}}],\"scatterpolargl\":[{\"type\":\"scatterpolargl\",\"marker\":{\"colorbar\":{\"outlinewidth\":0,\"ticks\":\"\"}}}],\"bar\":[{\"error_x\":{\"color\":\"#2a3f5f\"},\"error_y\":{\"color\":\"#2a3f5f\"},\"marker\":{\"line\":{\"color\":\"#E5ECF6\",\"width\":0.5},\"pattern\":{\"fillmode\":\"overlay\",\"size\":10,\"solidity\":0.2}},\"type\":\"bar\"}],\"scattergeo\":[{\"type\":\"scattergeo\",\"marker\":{\"colorbar\":{\"outlinewidth\":0,\"ticks\":\"\"}}}],\"scatterpolar\":[{\"type\":\"scatterpolar\",\"marker\":{\"colorbar\":{\"outlinewidth\":0,\"ticks\":\"\"}}}],\"histogram\":[{\"marker\":{\"pattern\":{\"fillmode\":\"overlay\",\"size\":10,\"solidity\":0.2}},\"type\":\"histogram\"}],\"scattergl\":[{\"type\":\"scattergl\",\"marker\":{\"colorbar\":{\"outlinewidth\":0,\"ticks\":\"\"}}}],\"scatter3d\":[{\"type\":\"scatter3d\",\"line\":{\"colorbar\":{\"outlinewidth\":0,\"ticks\":\"\"}},\"marker\":{\"colorbar\":{\"outlinewidth\":0,\"ticks\":\"\"}}}],\"scattermap\":[{\"type\":\"scattermap\",\"marker\":{\"colorbar\":{\"outlinewidth\":0,\"ticks\":\"\"}}}],\"scattermapbox\":[{\"type\":\"scattermapbox\",\"marker\":{\"colorbar\":{\"outlinewidth\":0,\"ticks\":\"\"}}}],\"scatterternary\":[{\"type\":\"scatterternary\",\"marker\":{\"colorbar\":{\"outlinewidth\":0,\"ticks\":\"\"}}}],\"scattercarpet\":[{\"type\":\"scattercarpet\",\"marker\":{\"colorbar\":{\"outlinewidth\":0,\"ticks\":\"\"}}}],\"carpet\":[{\"aaxis\":{\"endlinecolor\":\"#2a3f5f\",\"gridcolor\":\"white\",\"linecolor\":\"white\",\"minorgridcolor\":\"white\",\"startlinecolor\":\"#2a3f5f\"},\"baxis\":{\"endlinecolor\":\"#2a3f5f\",\"gridcolor\":\"white\",\"linecolor\":\"white\",\"minorgridcolor\":\"white\",\"startlinecolor\":\"#2a3f5f\"},\"type\":\"carpet\"}],\"table\":[{\"cells\":{\"fill\":{\"color\":\"#EBF0F8\"},\"line\":{\"color\":\"white\"}},\"header\":{\"fill\":{\"color\":\"#C8D4E3\"},\"line\":{\"color\":\"white\"}},\"type\":\"table\"}],\"barpolar\":[{\"marker\":{\"line\":{\"color\":\"#E5ECF6\",\"width\":0.5},\"pattern\":{\"fillmode\":\"overlay\",\"size\":10,\"solidity\":0.2}},\"type\":\"barpolar\"}],\"pie\":[{\"automargin\":true,\"type\":\"pie\"}]},\"layout\":{\"autotypenumbers\":\"strict\",\"colorway\":[\"#636efa\",\"#EF553B\",\"#00cc96\",\"#ab63fa\",\"#FFA15A\",\"#19d3f3\",\"#FF6692\",\"#B6E880\",\"#FF97FF\",\"#FECB52\"],\"font\":{\"color\":\"#2a3f5f\"},\"hovermode\":\"closest\",\"hoverlabel\":{\"align\":\"left\"},\"paper_bgcolor\":\"white\",\"plot_bgcolor\":\"#E5ECF6\",\"polar\":{\"bgcolor\":\"#E5ECF6\",\"angularaxis\":{\"gridcolor\":\"white\",\"linecolor\":\"white\",\"ticks\":\"\"},\"radialaxis\":{\"gridcolor\":\"white\",\"linecolor\":\"white\",\"ticks\":\"\"}},\"ternary\":{\"bgcolor\":\"#E5ECF6\",\"aaxis\":{\"gridcolor\":\"white\",\"linecolor\":\"white\",\"ticks\":\"\"},\"baxis\":{\"gridcolor\":\"white\",\"linecolor\":\"white\",\"ticks\":\"\"},\"caxis\":{\"gridcolor\":\"white\",\"linecolor\":\"white\",\"ticks\":\"\"}},\"coloraxis\":{\"colorbar\":{\"outlinewidth\":0,\"ticks\":\"\"}},\"colorscale\":{\"sequential\":[[0.0,\"#0d0887\"],[0.1111111111111111,\"#46039f\"],[0.2222222222222222,\"#7201a8\"],[0.3333333333333333,\"#9c179e\"],[0.4444444444444444,\"#bd3786\"],[0.5555555555555556,\"#d8576b\"],[0.6666666666666666,\"#ed7953\"],[0.7777777777777778,\"#fb9f3a\"],[0.8888888888888888,\"#fdca26\"],[1.0,\"#f0f921\"]],\"sequentialminus\":[[0.0,\"#0d0887\"],[0.1111111111111111,\"#46039f\"],[0.2222222222222222,\"#7201a8\"],[0.3333333333333333,\"#9c179e\"],[0.4444444444444444,\"#bd3786\"],[0.5555555555555556,\"#d8576b\"],[0.6666666666666666,\"#ed7953\"],[0.7777777777777778,\"#fb9f3a\"],[0.8888888888888888,\"#fdca26\"],[1.0,\"#f0f921\"]],\"diverging\":[[0,\"#8e0152\"],[0.1,\"#c51b7d\"],[0.2,\"#de77ae\"],[0.3,\"#f1b6da\"],[0.4,\"#fde0ef\"],[0.5,\"#f7f7f7\"],[0.6,\"#e6f5d0\"],[0.7,\"#b8e186\"],[0.8,\"#7fbc41\"],[0.9,\"#4d9221\"],[1,\"#276419\"]]},\"xaxis\":{\"gridcolor\":\"white\",\"linecolor\":\"white\",\"ticks\":\"\",\"title\":{\"standoff\":15},\"zerolinecolor\":\"white\",\"automargin\":true,\"zerolinewidth\":2},\"yaxis\":{\"gridcolor\":\"white\",\"linecolor\":\"white\",\"ticks\":\"\",\"title\":{\"standoff\":15},\"zerolinecolor\":\"white\",\"automargin\":true,\"zerolinewidth\":2},\"scene\":{\"xaxis\":{\"backgroundcolor\":\"#E5ECF6\",\"gridcolor\":\"white\",\"linecolor\":\"white\",\"showbackground\":true,\"ticks\":\"\",\"zerolinecolor\":\"white\",\"gridwidth\":2},\"yaxis\":{\"backgroundcolor\":\"#E5ECF6\",\"gridcolor\":\"white\",\"linecolor\":\"white\",\"showbackground\":true,\"ticks\":\"\",\"zerolinecolor\":\"white\",\"gridwidth\":2},\"zaxis\":{\"backgroundcolor\":\"#E5ECF6\",\"gridcolor\":\"white\",\"linecolor\":\"white\",\"showbackground\":true,\"ticks\":\"\",\"zerolinecolor\":\"white\",\"gridwidth\":2}},\"shapedefaults\":{\"line\":{\"color\":\"#2a3f5f\"}},\"annotationdefaults\":{\"arrowcolor\":\"#2a3f5f\",\"arrowhead\":0,\"arrowwidth\":1},\"geo\":{\"bgcolor\":\"white\",\"landcolor\":\"#E5ECF6\",\"subunitcolor\":\"white\",\"showland\":true,\"showlakes\":true,\"lakecolor\":\"white\"},\"title\":{\"x\":0.05},\"mapbox\":{\"style\":\"light\"}}},\"legend\":{\"tracegroupgap\":0},\"title\":{\"text\":\"Recommendation Count by Topic and Assignee\"},\"treemapcolorway\":[\"rgb(255,237,111)\",\"rgb(204,235,197)\",\"rgb(188,128,189)\",\"rgb(217,217,217)\",\"rgb(252,205,229)\",\"rgb(179,222,105)\",\"rgb(253,180,98)\",\"rgb(128,177,211)\",\"rgb(251,128,114)\",\"rgb(190,186,218)\",\"rgb(255,255,179)\",\"rgb(141,211,199)\"]},                        {\"responsive\": true}                    ).then(function(){\n",
       "                            \n",
       "var gd = document.getElementById('2ecdb94f-6196-4732-90d4-3969021a1a22');\n",
       "var x = new MutationObserver(function (mutations, observer) {{\n",
       "        var display = window.getComputedStyle(gd).display;\n",
       "        if (!display || display === 'none') {{\n",
       "            console.log([gd, 'removed!']);\n",
       "            Plotly.purge(gd);\n",
       "            observer.disconnect();\n",
       "        }}\n",
       "}});\n",
       "\n",
       "// Listen for the removal of the full notebook cells\n",
       "var notebookContainer = gd.closest('#notebook-container');\n",
       "if (notebookContainer) {{\n",
       "    x.observe(notebookContainer, {childList: true});\n",
       "}}\n",
       "\n",
       "// Listen for the clearing of the current output cell\n",
       "var outputEl = gd.closest('.output');\n",
       "if (outputEl) {{\n",
       "    x.observe(outputEl, {childList: true});\n",
       "}}\n",
       "\n",
       "                        })                };            </script>        </div>"
      ]
     },
     "metadata": {},
     "output_type": "display_data"
    }
   ],
   "source": [
    "fig = px.treemap(\n",
    "    df_long,\n",
    "    path=['Topic', 'Assignee'],\n",
    "    values='Count',\n",
    "    title='Recommendation Count by Topic and Assignee',\n",
    "    color='Assignee',\n",
    "    color_discrete_sequence=px.colors.qualitative.Set3_r\n",
    ")\n",
    "\n",
    "\n",
    "\n",
    "fig.show()"
   ]
  },
  {
   "cell_type": "markdown",
   "metadata": {},
   "source": [
    "Most of the recommendations are assigned to NIST and have to do with standards and regulation."
   ]
  },
  {
   "cell_type": "markdown",
   "metadata": {},
   "source": []
  },
  {
   "cell_type": "markdown",
   "metadata": {},
   "source": []
  },
  {
   "cell_type": "code",
   "execution_count": null,
   "metadata": {},
   "outputs": [],
   "source": []
  }
 ],
 "metadata": {
  "kernelspec": {
   "display_name": "Python 3.9.6 64-bit",
   "language": "python",
   "name": "python3"
  },
  "language_info": {
   "codemirror_mode": {
    "name": "ipython",
    "version": 3
   },
   "file_extension": ".py",
   "mimetype": "text/x-python",
   "name": "python",
   "nbconvert_exporter": "python",
   "pygments_lexer": "ipython3",
   "version": "3.9.6"
  },
  "orig_nbformat": 4,
  "vscode": {
   "interpreter": {
    "hash": "31f2aee4e71d21fbe5cf8b01ff0e069b9275f58929596ceb00d14d90e3e16cd6"
   }
  }
 },
 "nbformat": 4,
 "nbformat_minor": 2
}
